{
 "cells": [
  {
   "cell_type": "markdown",
   "metadata": {},
   "source": [
    "# Generate Data\n",
    "\n",
    "Training the SVM with the given data (car and non-car) led to many false positives. The false positives mainly occured at the left kerbside. A few of the false positives might be caused by actual cars from the opposing lane. Most are not, though. Another reason could be, that there is not enough training data for this particular situations. \n",
    "In this notebook we therefore try to extract more \"non-vehicle\" data."
   ]
  },
  {
   "cell_type": "code",
   "execution_count": 1,
   "metadata": {},
   "outputs": [],
   "source": [
    "import matplotlib.pyplot as plt\n",
    "import random\n",
    "import cv2\n",
    "from moviepy.editor import VideoFileClip"
   ]
  },
  {
   "cell_type": "code",
   "execution_count": 2,
   "metadata": {},
   "outputs": [],
   "source": [
    "counter = 0\n",
    "def process_image(img):\n",
    "    global counter\n",
    "    sample_width = 64\n",
    "    sample_height = 64\n",
    "    wh_min = 64\n",
    "    wh_max = 128\n",
    "    x_min = 0\n",
    "    x_max = 500\n",
    "    y_min = 400\n",
    "    y_max = 700\n",
    "    \n",
    "    img = cv2.cvtColor(img, cv2.COLOR_BGR2RGB)\n",
    "    \n",
    "    for i in range(5):\n",
    "        w = h = random.randint(wh_min, wh_max)\n",
    "        x = random.randint(x_min, x_max-w)\n",
    "        y = random.randint(y_min, y_max-h)\n",
    "\n",
    "        crop_img = img[y:y + h, x:x + w]\n",
    "        out_img = cv2.resize(crop_img, (sample_width, sample_height))\n",
    "        name = 'data/non-vehicles/Extracted/image{}.png'.format(counter)\n",
    "        cv2.imwrite(name, out_img)\n",
    "        counter += 1"
   ]
  },
  {
   "cell_type": "code",
   "execution_count": 3,
   "metadata": {},
   "outputs": [
    {
     "name": "stdout",
     "output_type": "stream",
     "text": [
      "1250 images extracted!\n"
     ]
    }
   ],
   "source": [
    "clip = VideoFileClip('../project_video.mp4').subclip(0,10)\n",
    "\n",
    "for frame in clip.iter_frames():\n",
    "    process_image(frame)\n",
    "    \n",
    "print('{} images extracted!'.format(counter))"
   ]
  }
 ],
 "metadata": {
  "kernelspec": {
   "display_name": "Python 3",
   "language": "python",
   "name": "python3"
  },
  "language_info": {
   "codemirror_mode": {
    "name": "ipython",
    "version": 3
   },
   "file_extension": ".py",
   "mimetype": "text/x-python",
   "name": "python",
   "nbconvert_exporter": "python",
   "pygments_lexer": "ipython3",
   "version": "3.6.5"
  }
 },
 "nbformat": 4,
 "nbformat_minor": 2
}
